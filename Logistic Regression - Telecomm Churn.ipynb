{
 "cells": [
  {
   "cell_type": "markdown",
   "id": "88dd8222",
   "metadata": {},
   "source": [
    "Modified and improved from base code from IBM Coursera: Machine Learning with Python"
   ]
  },
  {
   "cell_type": "code",
   "execution_count": 32,
   "id": "6929f05f",
   "metadata": {},
   "outputs": [],
   "source": [
    "import pandas as pd\n",
    "import pylab as pl\n",
    "import numpy as np\n",
    "import scipy.optimize as opt\n",
    "from sklearn import preprocessing\n",
    "%matplotlib inline \n",
    "import matplotlib.pyplot as plt"
   ]
  },
  {
   "cell_type": "code",
   "execution_count": 33,
   "id": "32e1d6a1",
   "metadata": {},
   "outputs": [
    {
     "name": "stdout",
     "output_type": "stream",
     "text": [
      "Requirement already satisfied: scikit-learn==0.23.1 in c:\\users\\sharo\\anaconda3\\lib\\site-packages (0.23.1)\n",
      "Requirement already satisfied: threadpoolctl>=2.0.0 in c:\\users\\sharo\\anaconda3\\lib\\site-packages (from scikit-learn==0.23.1) (2.1.0)\n",
      "Requirement already satisfied: joblib>=0.11 in c:\\users\\sharo\\anaconda3\\lib\\site-packages (from scikit-learn==0.23.1) (1.0.1)\n",
      "Requirement already satisfied: numpy>=1.13.3 in c:\\users\\sharo\\anaconda3\\lib\\site-packages (from scikit-learn==0.23.1) (1.20.1)\n",
      "Requirement already satisfied: scipy>=0.19.1 in c:\\users\\sharo\\anaconda3\\lib\\site-packages (from scikit-learn==0.23.1) (1.6.2)\n"
     ]
    }
   ],
   "source": [
    "!pip install scikit-learn==0.23.1"
   ]
  },
  {
   "cell_type": "code",
   "execution_count": 34,
   "id": "d965544f",
   "metadata": {},
   "outputs": [
    {
     "data": {
      "text/plain": [
       "35943"
      ]
     },
     "execution_count": 34,
     "metadata": {},
     "output_type": "execute_result"
    }
   ],
   "source": [
    "import requests\n",
    "\n",
    "# store url of dataset\n",
    "url = 'https://cf-courses-data.s3.us.cloud-object-storage.appdomain.cloud/IBMDeveloperSkillsNetwork-ML0101EN-SkillsNetwork/labs/Module%203/data/ChurnData.csv'\n",
    "# Create requests variable \n",
    "r = requests.get(url, allow_redirects=True)\n",
    "# Write content of request to 'ChurnData.csv' file\n",
    "open('ChurnData.csv', 'wb').write(r.content)"
   ]
  },
  {
   "cell_type": "code",
   "execution_count": 35,
   "id": "60be6eb2",
   "metadata": {},
   "outputs": [
    {
     "data": {
      "text/html": [
       "<div>\n",
       "<style scoped>\n",
       "    .dataframe tbody tr th:only-of-type {\n",
       "        vertical-align: middle;\n",
       "    }\n",
       "\n",
       "    .dataframe tbody tr th {\n",
       "        vertical-align: top;\n",
       "    }\n",
       "\n",
       "    .dataframe thead th {\n",
       "        text-align: right;\n",
       "    }\n",
       "</style>\n",
       "<table border=\"1\" class=\"dataframe\">\n",
       "  <thead>\n",
       "    <tr style=\"text-align: right;\">\n",
       "      <th></th>\n",
       "      <th>tenure</th>\n",
       "      <th>age</th>\n",
       "      <th>address</th>\n",
       "      <th>income</th>\n",
       "      <th>ed</th>\n",
       "      <th>employ</th>\n",
       "      <th>equip</th>\n",
       "      <th>callcard</th>\n",
       "      <th>wireless</th>\n",
       "      <th>longmon</th>\n",
       "      <th>...</th>\n",
       "      <th>pager</th>\n",
       "      <th>internet</th>\n",
       "      <th>callwait</th>\n",
       "      <th>confer</th>\n",
       "      <th>ebill</th>\n",
       "      <th>loglong</th>\n",
       "      <th>logtoll</th>\n",
       "      <th>lninc</th>\n",
       "      <th>custcat</th>\n",
       "      <th>churn</th>\n",
       "    </tr>\n",
       "  </thead>\n",
       "  <tbody>\n",
       "    <tr>\n",
       "      <th>0</th>\n",
       "      <td>11.0</td>\n",
       "      <td>33.0</td>\n",
       "      <td>7.0</td>\n",
       "      <td>136.0</td>\n",
       "      <td>5.0</td>\n",
       "      <td>5.0</td>\n",
       "      <td>0.0</td>\n",
       "      <td>1.0</td>\n",
       "      <td>1.0</td>\n",
       "      <td>4.40</td>\n",
       "      <td>...</td>\n",
       "      <td>1.0</td>\n",
       "      <td>0.0</td>\n",
       "      <td>1.0</td>\n",
       "      <td>1.0</td>\n",
       "      <td>0.0</td>\n",
       "      <td>1.482</td>\n",
       "      <td>3.033</td>\n",
       "      <td>4.913</td>\n",
       "      <td>4.0</td>\n",
       "      <td>1.0</td>\n",
       "    </tr>\n",
       "    <tr>\n",
       "      <th>1</th>\n",
       "      <td>33.0</td>\n",
       "      <td>33.0</td>\n",
       "      <td>12.0</td>\n",
       "      <td>33.0</td>\n",
       "      <td>2.0</td>\n",
       "      <td>0.0</td>\n",
       "      <td>0.0</td>\n",
       "      <td>0.0</td>\n",
       "      <td>0.0</td>\n",
       "      <td>9.45</td>\n",
       "      <td>...</td>\n",
       "      <td>0.0</td>\n",
       "      <td>0.0</td>\n",
       "      <td>0.0</td>\n",
       "      <td>0.0</td>\n",
       "      <td>0.0</td>\n",
       "      <td>2.246</td>\n",
       "      <td>3.240</td>\n",
       "      <td>3.497</td>\n",
       "      <td>1.0</td>\n",
       "      <td>1.0</td>\n",
       "    </tr>\n",
       "    <tr>\n",
       "      <th>2</th>\n",
       "      <td>23.0</td>\n",
       "      <td>30.0</td>\n",
       "      <td>9.0</td>\n",
       "      <td>30.0</td>\n",
       "      <td>1.0</td>\n",
       "      <td>2.0</td>\n",
       "      <td>0.0</td>\n",
       "      <td>0.0</td>\n",
       "      <td>0.0</td>\n",
       "      <td>6.30</td>\n",
       "      <td>...</td>\n",
       "      <td>0.0</td>\n",
       "      <td>0.0</td>\n",
       "      <td>0.0</td>\n",
       "      <td>1.0</td>\n",
       "      <td>0.0</td>\n",
       "      <td>1.841</td>\n",
       "      <td>3.240</td>\n",
       "      <td>3.401</td>\n",
       "      <td>3.0</td>\n",
       "      <td>0.0</td>\n",
       "    </tr>\n",
       "    <tr>\n",
       "      <th>3</th>\n",
       "      <td>38.0</td>\n",
       "      <td>35.0</td>\n",
       "      <td>5.0</td>\n",
       "      <td>76.0</td>\n",
       "      <td>2.0</td>\n",
       "      <td>10.0</td>\n",
       "      <td>1.0</td>\n",
       "      <td>1.0</td>\n",
       "      <td>1.0</td>\n",
       "      <td>6.05</td>\n",
       "      <td>...</td>\n",
       "      <td>1.0</td>\n",
       "      <td>1.0</td>\n",
       "      <td>1.0</td>\n",
       "      <td>1.0</td>\n",
       "      <td>1.0</td>\n",
       "      <td>1.800</td>\n",
       "      <td>3.807</td>\n",
       "      <td>4.331</td>\n",
       "      <td>4.0</td>\n",
       "      <td>0.0</td>\n",
       "    </tr>\n",
       "    <tr>\n",
       "      <th>4</th>\n",
       "      <td>7.0</td>\n",
       "      <td>35.0</td>\n",
       "      <td>14.0</td>\n",
       "      <td>80.0</td>\n",
       "      <td>2.0</td>\n",
       "      <td>15.0</td>\n",
       "      <td>0.0</td>\n",
       "      <td>1.0</td>\n",
       "      <td>0.0</td>\n",
       "      <td>7.10</td>\n",
       "      <td>...</td>\n",
       "      <td>0.0</td>\n",
       "      <td>0.0</td>\n",
       "      <td>1.0</td>\n",
       "      <td>1.0</td>\n",
       "      <td>0.0</td>\n",
       "      <td>1.960</td>\n",
       "      <td>3.091</td>\n",
       "      <td>4.382</td>\n",
       "      <td>3.0</td>\n",
       "      <td>0.0</td>\n",
       "    </tr>\n",
       "  </tbody>\n",
       "</table>\n",
       "<p>5 rows × 28 columns</p>\n",
       "</div>"
      ],
      "text/plain": [
       "   tenure   age  address  income   ed  employ  equip  callcard  wireless  \\\n",
       "0    11.0  33.0      7.0   136.0  5.0     5.0    0.0       1.0       1.0   \n",
       "1    33.0  33.0     12.0    33.0  2.0     0.0    0.0       0.0       0.0   \n",
       "2    23.0  30.0      9.0    30.0  1.0     2.0    0.0       0.0       0.0   \n",
       "3    38.0  35.0      5.0    76.0  2.0    10.0    1.0       1.0       1.0   \n",
       "4     7.0  35.0     14.0    80.0  2.0    15.0    0.0       1.0       0.0   \n",
       "\n",
       "   longmon  ...  pager  internet  callwait  confer  ebill  loglong  logtoll  \\\n",
       "0     4.40  ...    1.0       0.0       1.0     1.0    0.0    1.482    3.033   \n",
       "1     9.45  ...    0.0       0.0       0.0     0.0    0.0    2.246    3.240   \n",
       "2     6.30  ...    0.0       0.0       0.0     1.0    0.0    1.841    3.240   \n",
       "3     6.05  ...    1.0       1.0       1.0     1.0    1.0    1.800    3.807   \n",
       "4     7.10  ...    0.0       0.0       1.0     1.0    0.0    1.960    3.091   \n",
       "\n",
       "   lninc  custcat  churn  \n",
       "0  4.913      4.0    1.0  \n",
       "1  3.497      1.0    1.0  \n",
       "2  3.401      3.0    0.0  \n",
       "3  4.331      4.0    0.0  \n",
       "4  4.382      3.0    0.0  \n",
       "\n",
       "[5 rows x 28 columns]"
      ]
     },
     "execution_count": 35,
     "metadata": {},
     "output_type": "execute_result"
    }
   ],
   "source": [
    "df = pd.read_csv(\"ChurnData.csv\")\n",
    "\n",
    "# take a look at the dataset\n",
    "df.head()"
   ]
  },
  {
   "cell_type": "code",
   "execution_count": 36,
   "id": "35d7babc",
   "metadata": {},
   "outputs": [
    {
     "data": {
      "text/plain": [
       "(200, 28)"
      ]
     },
     "execution_count": 36,
     "metadata": {},
     "output_type": "execute_result"
    }
   ],
   "source": [
    "df.shape"
   ]
  },
  {
   "cell_type": "markdown",
   "id": "0a6db495",
   "metadata": {},
   "source": [
    "### EDA"
   ]
  },
  {
   "cell_type": "code",
   "execution_count": 37,
   "id": "9502541f",
   "metadata": {},
   "outputs": [
    {
     "name": "stdout",
     "output_type": "stream",
     "text": [
      "<class 'pandas.core.frame.DataFrame'>\n",
      "RangeIndex: 200 entries, 0 to 199\n",
      "Data columns (total 28 columns):\n",
      " #   Column    Non-Null Count  Dtype  \n",
      "---  ------    --------------  -----  \n",
      " 0   tenure    200 non-null    float64\n",
      " 1   age       200 non-null    float64\n",
      " 2   address   200 non-null    float64\n",
      " 3   income    200 non-null    float64\n",
      " 4   ed        200 non-null    float64\n",
      " 5   employ    200 non-null    float64\n",
      " 6   equip     200 non-null    float64\n",
      " 7   callcard  200 non-null    float64\n",
      " 8   wireless  200 non-null    float64\n",
      " 9   longmon   200 non-null    float64\n",
      " 10  tollmon   200 non-null    float64\n",
      " 11  equipmon  200 non-null    float64\n",
      " 12  cardmon   200 non-null    float64\n",
      " 13  wiremon   200 non-null    float64\n",
      " 14  longten   200 non-null    float64\n",
      " 15  tollten   200 non-null    float64\n",
      " 16  cardten   200 non-null    float64\n",
      " 17  voice     200 non-null    float64\n",
      " 18  pager     200 non-null    float64\n",
      " 19  internet  200 non-null    float64\n",
      " 20  callwait  200 non-null    float64\n",
      " 21  confer    200 non-null    float64\n",
      " 22  ebill     200 non-null    float64\n",
      " 23  loglong   200 non-null    float64\n",
      " 24  logtoll   200 non-null    float64\n",
      " 25  lninc     200 non-null    float64\n",
      " 26  custcat   200 non-null    float64\n",
      " 27  churn     200 non-null    float64\n",
      "dtypes: float64(28)\n",
      "memory usage: 43.9 KB\n"
     ]
    }
   ],
   "source": [
    "df.info()"
   ]
  },
  {
   "cell_type": "code",
   "execution_count": 38,
   "id": "84922e5a",
   "metadata": {},
   "outputs": [
    {
     "data": {
      "text/plain": [
       "longten     198\n",
       "longmon     157\n",
       "loglong     157\n",
       "cardten     124\n",
       "lninc       101\n",
       "income      101\n",
       "tollten      99\n",
       "cardmon      92\n",
       "equipmon     82\n",
       "tenure       68\n",
       "tollmon      65\n",
       "logtoll      65\n",
       "wiremon      57\n",
       "age          51\n",
       "address      40\n",
       "employ       35\n",
       "ed            5\n",
       "custcat       4\n",
       "confer        2\n",
       "ebill         2\n",
       "internet      2\n",
       "callwait      2\n",
       "wireless      2\n",
       "pager         2\n",
       "voice         2\n",
       "equip         2\n",
       "callcard      2\n",
       "churn         2\n",
       "dtype: int64"
      ]
     },
     "execution_count": 38,
     "metadata": {},
     "output_type": "execute_result"
    }
   ],
   "source": [
    "df.nunique().sort_values(ascending=False)"
   ]
  },
  {
   "cell_type": "markdown",
   "id": "b66c07e0",
   "metadata": {},
   "source": [
    "Note: bookmark one-hot encoding following categorical features in future improvements against baseline model.\n",
    "['ed','custcat','confer','ebill','internet','callwait','wireless','pager','voice','equip','callcard']"
   ]
  },
  {
   "cell_type": "markdown",
   "id": "472fc5b6",
   "metadata": {},
   "source": [
    "#### Check correlation with churn"
   ]
  },
  {
   "cell_type": "code",
   "execution_count": 39,
   "id": "69cbfe49",
   "metadata": {},
   "outputs": [
    {
     "data": {
      "text/html": [
       "<style  type=\"text/css\" >\n",
       "#T_d2f2d_row0_col0{\n",
       "            width:  10em;\n",
       "             height:  80%;\n",
       "            background:  linear-gradient(90deg, transparent 50.0%, #d65f5f 50.0%, #d65f5f 63.8%, transparent 63.8%);\n",
       "        }#T_d2f2d_row1_col0{\n",
       "            width:  10em;\n",
       "             height:  80%;\n",
       "            background:  linear-gradient(90deg, transparent 50.0%, #d65f5f 50.0%, #d65f5f 62.8%, transparent 62.8%);\n",
       "        }#T_d2f2d_row2_col0,#T_d2f2d_row3_col0{\n",
       "            width:  10em;\n",
       "             height:  80%;\n",
       "            background:  linear-gradient(90deg, transparent 50.0%, #d65f5f 50.0%, #d65f5f 62.7%, transparent 62.7%);\n",
       "        }#T_d2f2d_row4_col0{\n",
       "            width:  10em;\n",
       "             height:  80%;\n",
       "            background:  linear-gradient(90deg, transparent 50.0%, #d65f5f 50.0%, #d65f5f 60.8%, transparent 60.8%);\n",
       "        }#T_d2f2d_row5_col0{\n",
       "            width:  10em;\n",
       "             height:  80%;\n",
       "            background:  linear-gradient(90deg, transparent 50.0%, #d65f5f 50.0%, #d65f5f 58.9%, transparent 58.9%);\n",
       "        }#T_d2f2d_row6_col0{\n",
       "            width:  10em;\n",
       "             height:  80%;\n",
       "            background:  linear-gradient(90deg, transparent 50.0%, #d65f5f 50.0%, #d65f5f 58.7%, transparent 58.7%);\n",
       "        }#T_d2f2d_row7_col0{\n",
       "            width:  10em;\n",
       "             height:  80%;\n",
       "            background:  linear-gradient(90deg, transparent 50.0%, #d65f5f 50.0%, #d65f5f 57.1%, transparent 57.1%);\n",
       "        }#T_d2f2d_row8_col0{\n",
       "            width:  10em;\n",
       "             height:  80%;\n",
       "            background:  linear-gradient(90deg, transparent 50.0%, #d65f5f 50.0%, #d65f5f 56.2%, transparent 56.2%);\n",
       "        }#T_d2f2d_row9_col0,#T_d2f2d_row10_col0{\n",
       "            width:  10em;\n",
       "             height:  80%;\n",
       "            background:  linear-gradient(90deg, transparent 50.0%, #d65f5f 50.0%, #d65f5f 50.7%, transparent 50.7%);\n",
       "        }#T_d2f2d_row11_col0{\n",
       "            width:  10em;\n",
       "             height:  80%;\n",
       "            background:  linear-gradient(90deg, transparent 47.4%, #d65f5f 47.4%, #d65f5f 50.0%, transparent 50.0%);\n",
       "        }#T_d2f2d_row12_col0{\n",
       "            width:  10em;\n",
       "             height:  80%;\n",
       "            background:  linear-gradient(90deg, transparent 47.0%, #d65f5f 47.0%, #d65f5f 50.0%, transparent 50.0%);\n",
       "        }#T_d2f2d_row13_col0{\n",
       "            width:  10em;\n",
       "             height:  80%;\n",
       "            background:  linear-gradient(90deg, transparent 46.5%, #d65f5f 46.5%, #d65f5f 50.0%, transparent 50.0%);\n",
       "        }#T_d2f2d_row14_col0{\n",
       "            width:  10em;\n",
       "             height:  80%;\n",
       "            background:  linear-gradient(90deg, transparent 45.9%, #d65f5f 45.9%, #d65f5f 50.0%, transparent 50.0%);\n",
       "        }#T_d2f2d_row15_col0{\n",
       "            width:  10em;\n",
       "             height:  80%;\n",
       "            background:  linear-gradient(90deg, transparent 45.5%, #d65f5f 45.5%, #d65f5f 50.0%, transparent 50.0%);\n",
       "        }#T_d2f2d_row16_col0{\n",
       "            width:  10em;\n",
       "             height:  80%;\n",
       "            background:  linear-gradient(90deg, transparent 44.1%, #d65f5f 44.1%, #d65f5f 50.0%, transparent 50.0%);\n",
       "        }#T_d2f2d_row17_col0{\n",
       "            width:  10em;\n",
       "             height:  80%;\n",
       "            background:  linear-gradient(90deg, transparent 41.1%, #d65f5f 41.1%, #d65f5f 50.0%, transparent 50.0%);\n",
       "        }#T_d2f2d_row18_col0{\n",
       "            width:  10em;\n",
       "             height:  80%;\n",
       "            background:  linear-gradient(90deg, transparent 38.6%, #d65f5f 38.6%, #d65f5f 50.0%, transparent 50.0%);\n",
       "        }#T_d2f2d_row19_col0{\n",
       "            width:  10em;\n",
       "             height:  80%;\n",
       "            background:  linear-gradient(90deg, transparent 37.0%, #d65f5f 37.0%, #d65f5f 50.0%, transparent 50.0%);\n",
       "        }#T_d2f2d_row20_col0{\n",
       "            width:  10em;\n",
       "             height:  80%;\n",
       "            background:  linear-gradient(90deg, transparent 35.6%, #d65f5f 35.6%, #d65f5f 50.0%, transparent 50.0%);\n",
       "        }#T_d2f2d_row21_col0{\n",
       "            width:  10em;\n",
       "             height:  80%;\n",
       "            background:  linear-gradient(90deg, transparent 35.4%, #d65f5f 35.4%, #d65f5f 50.0%, transparent 50.0%);\n",
       "        }#T_d2f2d_row22_col0{\n",
       "            width:  10em;\n",
       "             height:  80%;\n",
       "            background:  linear-gradient(90deg, transparent 35.3%, #d65f5f 35.3%, #d65f5f 50.0%, transparent 50.0%);\n",
       "        }#T_d2f2d_row23_col0{\n",
       "            width:  10em;\n",
       "             height:  80%;\n",
       "            background:  linear-gradient(90deg, transparent 34.4%, #d65f5f 34.4%, #d65f5f 50.0%, transparent 50.0%);\n",
       "        }#T_d2f2d_row24_col0{\n",
       "            width:  10em;\n",
       "             height:  80%;\n",
       "            background:  linear-gradient(90deg, transparent 33.2%, #d65f5f 33.2%, #d65f5f 50.0%, transparent 50.0%);\n",
       "        }#T_d2f2d_row25_col0{\n",
       "            width:  10em;\n",
       "             height:  80%;\n",
       "            background:  linear-gradient(90deg, transparent 33.1%, #d65f5f 33.1%, #d65f5f 50.0%, transparent 50.0%);\n",
       "        }#T_d2f2d_row26_col0{\n",
       "            width:  10em;\n",
       "             height:  80%;\n",
       "            background:  linear-gradient(90deg, transparent 31.2%, #d65f5f 31.2%, #d65f5f 50.0%, transparent 50.0%);\n",
       "        }</style><table id=\"T_d2f2d_\" ><thead>    <tr>        <th class=\"blank level0\" ></th>        <th class=\"col_heading level0 col0\" >0</th>    </tr></thead><tbody>\n",
       "                <tr>\n",
       "                        <th id=\"T_d2f2d_level0_row0\" class=\"row_heading level0 row0\" >equip</th>\n",
       "                        <td id=\"T_d2f2d_row0_col0\" class=\"data row0 col0\" >0.275284</td>\n",
       "            </tr>\n",
       "            <tr>\n",
       "                        <th id=\"T_d2f2d_level0_row1\" class=\"row_heading level0 row1\" >equipmon</th>\n",
       "                        <td id=\"T_d2f2d_row1_col0\" class=\"data row1 col0\" >0.255348</td>\n",
       "            </tr>\n",
       "            <tr>\n",
       "                        <th id=\"T_d2f2d_level0_row2\" class=\"row_heading level0 row2\" >ebill</th>\n",
       "                        <td id=\"T_d2f2d_row2_col0\" class=\"data row2 col0\" >0.254838</td>\n",
       "            </tr>\n",
       "            <tr>\n",
       "                        <th id=\"T_d2f2d_level0_row3\" class=\"row_heading level0 row3\" >internet</th>\n",
       "                        <td id=\"T_d2f2d_row3_col0\" class=\"data row3 col0\" >0.254838</td>\n",
       "            </tr>\n",
       "            <tr>\n",
       "                        <th id=\"T_d2f2d_level0_row4\" class=\"row_heading level0 row4\" >ed</th>\n",
       "                        <td id=\"T_d2f2d_row4_col0\" class=\"data row4 col0\" >0.216112</td>\n",
       "            </tr>\n",
       "            <tr>\n",
       "                        <th id=\"T_d2f2d_level0_row5\" class=\"row_heading level0 row5\" >wiremon</th>\n",
       "                        <td id=\"T_d2f2d_row5_col0\" class=\"data row5 col0\" >0.177483</td>\n",
       "            </tr>\n",
       "            <tr>\n",
       "                        <th id=\"T_d2f2d_level0_row6\" class=\"row_heading level0 row6\" >wireless</th>\n",
       "                        <td id=\"T_d2f2d_row6_col0\" class=\"data row6 col0\" >0.174356</td>\n",
       "            </tr>\n",
       "            <tr>\n",
       "                        <th id=\"T_d2f2d_level0_row7\" class=\"row_heading level0 row7\" >voice</th>\n",
       "                        <td id=\"T_d2f2d_row7_col0\" class=\"data row7 col0\" >0.142315</td>\n",
       "            </tr>\n",
       "            <tr>\n",
       "                        <th id=\"T_d2f2d_level0_row8\" class=\"row_heading level0 row8\" >pager</th>\n",
       "                        <td id=\"T_d2f2d_row8_col0\" class=\"data row8 col0\" >0.124623</td>\n",
       "            </tr>\n",
       "            <tr>\n",
       "                        <th id=\"T_d2f2d_level0_row9\" class=\"row_heading level0 row9\" >custcat</th>\n",
       "                        <td id=\"T_d2f2d_row9_col0\" class=\"data row9 col0\" >0.014839</td>\n",
       "            </tr>\n",
       "            <tr>\n",
       "                        <th id=\"T_d2f2d_level0_row10\" class=\"row_heading level0 row10\" >tollmon</th>\n",
       "                        <td id=\"T_d2f2d_row10_col0\" class=\"data row10 col0\" >0.014356</td>\n",
       "            </tr>\n",
       "            <tr>\n",
       "                        <th id=\"T_d2f2d_level0_row11\" class=\"row_heading level0 row11\" >callwait</th>\n",
       "                        <td id=\"T_d2f2d_row11_col0\" class=\"data row11 col0\" >-0.052885</td>\n",
       "            </tr>\n",
       "            <tr>\n",
       "                        <th id=\"T_d2f2d_level0_row12\" class=\"row_heading level0 row12\" >tollten</th>\n",
       "                        <td id=\"T_d2f2d_row12_col0\" class=\"data row12 col0\" >-0.059482</td>\n",
       "            </tr>\n",
       "            <tr>\n",
       "                        <th id=\"T_d2f2d_level0_row13\" class=\"row_heading level0 row13\" >logtoll</th>\n",
       "                        <td id=\"T_d2f2d_row13_col0\" class=\"data row13 col0\" >-0.070156</td>\n",
       "            </tr>\n",
       "            <tr>\n",
       "                        <th id=\"T_d2f2d_level0_row14\" class=\"row_heading level0 row14\" >confer</th>\n",
       "                        <td id=\"T_d2f2d_row14_col0\" class=\"data row14 col0\" >-0.081361</td>\n",
       "            </tr>\n",
       "            <tr>\n",
       "                        <th id=\"T_d2f2d_level0_row15\" class=\"row_heading level0 row15\" >income</th>\n",
       "                        <td id=\"T_d2f2d_row15_col0\" class=\"data row15 col0\" >-0.090790</td>\n",
       "            </tr>\n",
       "            <tr>\n",
       "                        <th id=\"T_d2f2d_level0_row16\" class=\"row_heading level0 row16\" >lninc</th>\n",
       "                        <td id=\"T_d2f2d_row16_col0\" class=\"data row16 col0\" >-0.117459</td>\n",
       "            </tr>\n",
       "            <tr>\n",
       "                        <th id=\"T_d2f2d_level0_row17\" class=\"row_heading level0 row17\" >cardmon</th>\n",
       "                        <td id=\"T_d2f2d_row17_col0\" class=\"data row17 col0\" >-0.177163</td>\n",
       "            </tr>\n",
       "            <tr>\n",
       "                        <th id=\"T_d2f2d_level0_row18\" class=\"row_heading level0 row18\" >cardten</th>\n",
       "                        <td id=\"T_d2f2d_row18_col0\" class=\"data row18 col0\" >-0.228634</td>\n",
       "            </tr>\n",
       "            <tr>\n",
       "                        <th id=\"T_d2f2d_level0_row19\" class=\"row_heading level0 row19\" >address</th>\n",
       "                        <td id=\"T_d2f2d_row19_col0\" class=\"data row19 col0\" >-0.260659</td>\n",
       "            </tr>\n",
       "            <tr>\n",
       "                        <th id=\"T_d2f2d_level0_row20\" class=\"row_heading level0 row20\" >age</th>\n",
       "                        <td id=\"T_d2f2d_row20_col0\" class=\"data row20 col0\" >-0.287697</td>\n",
       "            </tr>\n",
       "            <tr>\n",
       "                        <th id=\"T_d2f2d_level0_row21\" class=\"row_heading level0 row21\" >longmon</th>\n",
       "                        <td id=\"T_d2f2d_row21_col0\" class=\"data row21 col0\" >-0.292026</td>\n",
       "            </tr>\n",
       "            <tr>\n",
       "                        <th id=\"T_d2f2d_level0_row22\" class=\"row_heading level0 row22\" >longten</th>\n",
       "                        <td id=\"T_d2f2d_row22_col0\" class=\"data row22 col0\" >-0.294906</td>\n",
       "            </tr>\n",
       "            <tr>\n",
       "                        <th id=\"T_d2f2d_level0_row23\" class=\"row_heading level0 row23\" >callcard</th>\n",
       "                        <td id=\"T_d2f2d_row23_col0\" class=\"data row23 col0\" >-0.311451</td>\n",
       "            </tr>\n",
       "            <tr>\n",
       "                        <th id=\"T_d2f2d_level0_row24\" class=\"row_heading level0 row24\" >loglong</th>\n",
       "                        <td id=\"T_d2f2d_row24_col0\" class=\"data row24 col0\" >-0.336869</td>\n",
       "            </tr>\n",
       "            <tr>\n",
       "                        <th id=\"T_d2f2d_level0_row25\" class=\"row_heading level0 row25\" >employ</th>\n",
       "                        <td id=\"T_d2f2d_row25_col0\" class=\"data row25 col0\" >-0.337969</td>\n",
       "            </tr>\n",
       "            <tr>\n",
       "                        <th id=\"T_d2f2d_level0_row26\" class=\"row_heading level0 row26\" >tenure</th>\n",
       "                        <td id=\"T_d2f2d_row26_col0\" class=\"data row26 col0\" >-0.376860</td>\n",
       "            </tr>\n",
       "    </tbody></table>"
      ],
      "text/plain": [
       "<pandas.io.formats.style.Styler at 0x2407fbcd640>"
      ]
     },
     "execution_count": 39,
     "metadata": {},
     "output_type": "execute_result"
    }
   ],
   "source": [
    "# Check feature variables correlation with emissions\n",
    "df.loc[:, df.columns!='churn']\\\n",
    "    .corrwith(df['churn'])\\\n",
    "    .sort_values(ascending=False)\\\n",
    "    .to_frame()\\\n",
    "    .style\\\n",
    "    .bar(vmin=-1, align='zero', vmax=1)"
   ]
  },
  {
   "cell_type": "markdown",
   "id": "5be0c4b2",
   "metadata": {},
   "source": [
    "### Data Pre-processing and Selection"
   ]
  },
  {
   "cell_type": "code",
   "execution_count": 40,
   "id": "2d18551c",
   "metadata": {},
   "outputs": [
    {
     "data": {
      "text/plain": [
       "array([[-1.14, -0.63, -0.46,  0.48,  1.7 , -0.58, -0.86],\n",
       "       [-0.12, -0.63,  0.03, -0.33, -0.64, -1.14, -0.86],\n",
       "       [-0.58, -0.86, -0.26, -0.35, -1.42, -0.92, -0.86],\n",
       "       [ 0.12, -0.47, -0.66,  0.01, -0.64, -0.03,  1.16],\n",
       "       [-1.32, -0.47,  0.23,  0.04, -0.64,  0.53, -0.86]])"
      ]
     },
     "execution_count": 40,
     "metadata": {},
     "output_type": "execute_result"
    }
   ],
   "source": [
    "# Define X \n",
    "from sklearn import preprocessing\n",
    "\n",
    "X = np.asarray(df[['tenure', 'age', 'address', 'income', 'ed', 'employ', 'equip']])\n",
    "X[0:5]\n",
    "# normalize dataset\n",
    "X = preprocessing.StandardScaler().fit(X).transform(X)\n",
    "X[0:5]\n"
   ]
  },
  {
   "cell_type": "code",
   "execution_count": 41,
   "id": "76608ed9",
   "metadata": {},
   "outputs": [
    {
     "data": {
      "text/plain": [
       "array([1, 1, 0, 0, 0])"
      ]
     },
     "execution_count": 41,
     "metadata": {},
     "output_type": "execute_result"
    }
   ],
   "source": [
    "# Define y and convert to integer for sklearn algorithm\n",
    "y = np.asarray(df['churn']).astype('int')\n",
    "y [0:5]"
   ]
  },
  {
   "cell_type": "code",
   "execution_count": 42,
   "id": "b4631970",
   "metadata": {},
   "outputs": [
    {
     "name": "stdout",
     "output_type": "stream",
     "text": [
      "Train set: (160, 7) (160,)\n",
      "Test set: (40, 7) (40,)\n"
     ]
    }
   ],
   "source": [
    "# Split data into train and test sets\n",
    "from sklearn.model_selection import train_test_split\n",
    "X_train, X_test, y_train, y_test = train_test_split( X, y, test_size=0.2, random_state=4)\n",
    "print ('Train set:', X_train.shape,  y_train.shape)\n",
    "print ('Test set:', X_test.shape,  y_test.shape)"
   ]
  },
  {
   "cell_type": "markdown",
   "id": "042e585b",
   "metadata": {},
   "source": [
    "### Create and Fit Logistic Regression Model"
   ]
  },
  {
   "cell_type": "code",
   "execution_count": 43,
   "id": "f36d61ef",
   "metadata": {},
   "outputs": [],
   "source": [
    "from sklearn.linear_model import LogisticRegression\n",
    "from sklearn.metrics import confusion_matrix\n",
    "\n",
    "#Fit model\n",
    "LR = LogisticRegression(C=0.01, solver='liblinear').fit(X_train,y_train)"
   ]
  },
  {
   "cell_type": "code",
   "execution_count": 44,
   "id": "c1286c3d",
   "metadata": {},
   "outputs": [
    {
     "data": {
      "text/plain": [
       "array([0, 0, 0, 0, 0, 0, 0, 0, 1, 0, 0, 0, 1, 1, 0, 0, 0, 1, 1, 0, 0, 0,\n",
       "       0, 0, 0, 0, 0, 0, 0, 0, 0, 0, 1, 0, 0, 0, 1, 0, 0, 0])"
      ]
     },
     "execution_count": 44,
     "metadata": {},
     "output_type": "execute_result"
    }
   ],
   "source": [
    "# Predict\n",
    "yhat = LR.predict(X_test)\n",
    "yhat"
   ]
  },
  {
   "cell_type": "code",
   "execution_count": 45,
   "id": "e0df96a7",
   "metadata": {},
   "outputs": [
    {
     "data": {
      "text/plain": [
       "array([[0.54, 0.46],\n",
       "       [0.61, 0.39],\n",
       "       [0.56, 0.44],\n",
       "       [0.63, 0.37],\n",
       "       [0.56, 0.44],\n",
       "       [0.55, 0.45],\n",
       "       [0.52, 0.48],\n",
       "       [0.61, 0.39],\n",
       "       [0.41, 0.59],\n",
       "       [0.63, 0.37],\n",
       "       [0.58, 0.42],\n",
       "       [0.63, 0.37],\n",
       "       [0.48, 0.52],\n",
       "       [0.43, 0.57],\n",
       "       [0.66, 0.34],\n",
       "       [0.55, 0.45],\n",
       "       [0.52, 0.48],\n",
       "       [0.49, 0.51],\n",
       "       [0.49, 0.51],\n",
       "       [0.52, 0.48],\n",
       "       [0.62, 0.38],\n",
       "       [0.53, 0.47],\n",
       "       [0.64, 0.36],\n",
       "       [0.52, 0.48],\n",
       "       [0.51, 0.49],\n",
       "       [0.71, 0.29],\n",
       "       [0.55, 0.45],\n",
       "       [0.52, 0.48],\n",
       "       [0.52, 0.48],\n",
       "       [0.71, 0.29],\n",
       "       [0.68, 0.32],\n",
       "       [0.51, 0.49],\n",
       "       [0.42, 0.58],\n",
       "       [0.71, 0.29],\n",
       "       [0.6 , 0.4 ],\n",
       "       [0.64, 0.36],\n",
       "       [0.4 , 0.6 ],\n",
       "       [0.52, 0.48],\n",
       "       [0.66, 0.34],\n",
       "       [0.51, 0.49]])"
      ]
     },
     "execution_count": 45,
     "metadata": {},
     "output_type": "execute_result"
    }
   ],
   "source": [
    "# Get estimates for classes\n",
    "yhat_prob = LR.predict_proba(X_test)\n",
    "yhat_prob"
   ]
  },
  {
   "cell_type": "markdown",
   "id": "ff758280",
   "metadata": {},
   "source": [
    "### Evaluation"
   ]
  },
  {
   "cell_type": "markdown",
   "id": "08a968aa",
   "metadata": {},
   "source": [
    "#### Jaccard Index"
   ]
  },
  {
   "cell_type": "code",
   "execution_count": 46,
   "id": "0081a23e",
   "metadata": {},
   "outputs": [
    {
     "data": {
      "text/plain": [
       "0.7058823529411765"
      ]
     },
     "execution_count": 46,
     "metadata": {},
     "output_type": "execute_result"
    }
   ],
   "source": [
    "from sklearn.metrics import jaccard_score\n",
    "jaccard_score(y_test, yhat,pos_label=0)"
   ]
  },
  {
   "cell_type": "markdown",
   "id": "5f60e8c0",
   "metadata": {},
   "source": [
    "#### Confusion Matrix"
   ]
  },
  {
   "cell_type": "code",
   "execution_count": 47,
   "id": "a295bb8d",
   "metadata": {},
   "outputs": [
    {
     "name": "stdout",
     "output_type": "stream",
     "text": [
      "[[ 6  9]\n",
      " [ 1 24]]\n"
     ]
    }
   ],
   "source": [
    "from sklearn.metrics import classification_report, confusion_matrix\n",
    "import itertools\n",
    "def plot_confusion_matrix(cm, classes,\n",
    "                          normalize=False,\n",
    "                          title='Confusion matrix',\n",
    "                          cmap=plt.cm.Blues):\n",
    "    \"\"\"\n",
    "    This function prints and plots the confusion matrix.\n",
    "    Normalization can be applied by setting `normalize=True`.\n",
    "    \"\"\"\n",
    "    if normalize:\n",
    "        cm = cm.astype('float') / cm.sum(axis=1)[:, np.newaxis]\n",
    "        print(\"Normalized confusion matrix\")\n",
    "    else:\n",
    "        print('Confusion matrix, without normalization')\n",
    "\n",
    "    print(cm)\n",
    "\n",
    "    plt.imshow(cm, interpolation='nearest', cmap=cmap)\n",
    "    plt.title(title)\n",
    "    plt.colorbar()\n",
    "    tick_marks = np.arange(len(classes))\n",
    "    plt.xticks(tick_marks, classes, rotation=45)\n",
    "    plt.yticks(tick_marks, classes)\n",
    "\n",
    "    fmt = '.2f' if normalize else 'd'\n",
    "    thresh = cm.max() / 2.\n",
    "    for i, j in itertools.product(range(cm.shape[0]), range(cm.shape[1])):\n",
    "        plt.text(j, i, format(cm[i, j], fmt),\n",
    "                 horizontalalignment=\"center\",\n",
    "                 color=\"white\" if cm[i, j] > thresh else \"black\")\n",
    "\n",
    "    plt.tight_layout()\n",
    "    plt.ylabel('True label')\n",
    "    plt.xlabel('Predicted label')\n",
    "print(confusion_matrix(y_test, yhat, labels=[1,0]))"
   ]
  },
  {
   "cell_type": "code",
   "execution_count": 48,
   "id": "ff993633",
   "metadata": {},
   "outputs": [
    {
     "name": "stdout",
     "output_type": "stream",
     "text": [
      "Confusion matrix, without normalization\n",
      "[[ 6  9]\n",
      " [ 1 24]]\n"
     ]
    },
    {
     "data": {
      "image/png": "[encoded data removed]",
      "text/plain": [
       "<Figure size 432x288 with 2 Axes>"
      ]
     },
     "metadata": {
      "needs_background": "light"
     },
     "output_type": "display_data"
    }
   ],
   "source": [
    "# Compute confusion matrix\n",
    "cnf_matrix = confusion_matrix(y_test, yhat, labels=[1,0])\n",
    "np.set_printoptions(precision=2)\n",
    "\n",
    "\n",
    "# Plot non-normalized confusion matrix\n",
    "plt.figure()\n",
    "plot_confusion_matrix(cnf_matrix, classes=['churn=1','churn=0'],normalize= False,  title='Confusion matrix')"
   ]
  },
  {
   "cell_type": "markdown",
   "id": "045556a5",
   "metadata": {},
   "source": [
    "#### F-1 score"
   ]
  },
  {
   "cell_type": "code",
   "execution_count": 49,
   "id": "76f1d92d",
   "metadata": {},
   "outputs": [
    {
     "name": "stdout",
     "output_type": "stream",
     "text": [
      "              precision    recall  f1-score   support\n",
      "\n",
      "           0       0.73      0.96      0.83        25\n",
      "           1       0.86      0.40      0.55        15\n",
      "\n",
      "    accuracy                           0.75        40\n",
      "   macro avg       0.79      0.68      0.69        40\n",
      "weighted avg       0.78      0.75      0.72        40\n",
      "\n"
     ]
    }
   ],
   "source": [
    "print (classification_report(y_test, yhat))"
   ]
  },
  {
   "cell_type": "markdown",
   "id": "72c37c9e",
   "metadata": {},
   "source": [
    "#### log loss"
   ]
  },
  {
   "cell_type": "code",
   "execution_count": 50,
   "id": "d222b20d",
   "metadata": {},
   "outputs": [
    {
     "data": {
      "text/plain": [
       "0.6017092478101187"
      ]
     },
     "execution_count": 50,
     "metadata": {},
     "output_type": "execute_result"
    }
   ],
   "source": [
    "from sklearn.metrics import log_loss\n",
    "log_loss(y_test, yhat_prob)"
   ]
  },
  {
   "cell_type": "markdown",
   "id": "6a5a8d6f",
   "metadata": {},
   "source": [
    "## Loop - Optimize Solver and Regularization Values"
   ]
  },
  {
   "cell_type": "code",
   "execution_count": 51,
   "id": "5f037c03",
   "metadata": {},
   "outputs": [],
   "source": [
    "# create function to iterate through Logistic Regression models with different C and solver parameters\n",
    "from sklearn.metrics import f1_score\n",
    "\n",
    "def generate_LR(X_train, y_train, X_test, y_test, C, solver):\n",
    "    \"\"\"\n",
    "    This function runs a Logistic Regression model with provided C and solver parameters.\n",
    "    Jaccard score, F1 score and log loss are returned.\n",
    "    \"\"\"\n",
    "    LR = LogisticRegression(C=0.01, solver='liblinear').fit(X_train,y_train)\n",
    "    yhat = LR.predict(X_test)\n",
    "    yhat_prob = LR.predict_proba(X_test)\n",
    "    \n",
    "    my_jaccard_score = jaccard_score(y_test, yhat,pos_label=0)\n",
    "    my_f1_score = f1_score(y_test, yhat)\n",
    "    my_log_loss = log_loss(y_test, yhat_prob)\n",
    "    \n",
    "    return (my_jaccard_score, my_f1_score, my_log_loss)"
   ]
  },
  {
   "cell_type": "code",
   "execution_count": 52,
   "id": "81533f28",
   "metadata": {},
   "outputs": [
    {
     "name": "stdout",
     "output_type": "stream",
     "text": [
      "best_jaccard_score : 0.7058823529411765\n",
      "best_f1_score : 0.5454545454545455\n",
      "best_logloss_score : 0.6017092478101187\n",
      "best_jaccard_C : 0.001\n",
      "best_jaccard_solver : newton-cg\n",
      "best_f1_score_C : 0.001\n",
      "best_f1_score_solver : newton-cg\n",
      "best_logloss_score_C : 0.001\n",
      "best_logloss_score_solver : newton-cg\n"
     ]
    }
   ],
   "source": [
    "\n",
    "# iterate through different solvers for LR model\n",
    "solver_types = ['newton-cg', 'lbfgs', 'liblinear', 'sag', 'saga']\n",
    "C_values = [0.001, 0.01, 0.1, 1, 10, 100, 1000]\n",
    "\n",
    "scoredict = {\n",
    "  \"best_jaccard_score\": 0,\n",
    "  \"best_f1_score\": 0,\n",
    "  \"best_logloss_score\": 1000,\n",
    "  \"best_jaccard_C\": \"null\",\n",
    "  \"best_jaccard_solver\": \"null\",\n",
    "  \"best_f1_score_C\": \"null\",\n",
    "  \"best_f1_score_solver\": \"null\",\n",
    "  \"best_logloss_score_C\": \"null\",\n",
    "  \"best_logloss_score_solver\": \"null\"\n",
    "}\n",
    "\n",
    "for solver in solver_types:\n",
    "    for C in C_values:\n",
    "        my_jaccard_score, my_f1_score, my_log_loss = generate_LR(X_train, y_train, X_test, y_test, C, solver)\n",
    "        #print(f'C: {C} \\tSolver: {solver} \\tjaccard_score: {my_jaccard_score} \\tf1_score: {my_f1_score} \\tlog_loss: {my_log_loss}')\n",
    "        \n",
    "        # update scoredict with C and solver values for best accuracy evaluation\n",
    "        if my_jaccard_score > scoredict['best_jaccard_score']:\n",
    "            scoredict['best_jaccard_score'] = my_jaccard_score\n",
    "            scoredict['best_jaccard_C'] = C\n",
    "            scoredict['best_jaccard_solver'] = solver\n",
    "\n",
    "        if my_f1_score > scoredict['best_f1_score']:\n",
    "            scoredict['best_f1_score'] = my_f1_score\n",
    "            scoredict['best_f1_score_C'] = C\n",
    "            scoredict['best_f1_score_solver'] = solver\n",
    "            \n",
    "        if my_log_loss < scoredict['best_logloss_score']:\n",
    "            scoredict['best_logloss_score'] = my_log_loss\n",
    "            scoredict['best_logloss_score_C'] = C\n",
    "            scoredict['best_logloss_score_solver'] = solver\n",
    "            \n",
    "\n",
    "# Iterate over scoredict and print\n",
    "for key, value in scoredict.items():\n",
    "    print(key, ':', value)"
   ]
  }
 ],
 "metadata": {
  "kernelspec": {
   "display_name": "Python 3",
   "language": "python",
   "name": "python3"
  },
  "language_info": {
   "codemirror_mode": {
    "name": "ipython",
    "version": 3
   },
   "file_extension": ".py",
   "mimetype": "text/x-python",
   "name": "python",
   "nbconvert_exporter": "python",
   "pygments_lexer": "ipython3",
   "version": "3.8.8"
  }
 },
 "nbformat": 4,
 "nbformat_minor": 5
}
